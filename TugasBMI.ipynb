{
 "cells": [
  {
   "cell_type": "markdown",
   "metadata": {},
   "source": [
    "![alt_title](https://www.coffeeandcode.com/images/meta/facebook-open-graph.1200x630.png \"Code\")"
   ]
  },
  {
   "cell_type": "markdown",
   "metadata": {},
   "source": [
    "# <center>Tugas Menentukan Berat Badan Ideal</center>"
   ]
  },
  {
   "cell_type": "markdown",
   "metadata": {},
   "source": [
    "## > _Soal_\n",
    "\n",
    "\n",
    "Body Mass Index (BMI) menentukan sebuah keidealan berat badan terhadap tinggi badan. Berikut adalah formula dari BMI : BMI = weight (kg) ÷ height^2 (m^2)\n",
    "\n",
    "Berikut adalah kategorisasi BMI\n",
    "\n",
    "| BMI                 | Kategori BMI             |   |\n",
    "|---------------------|---------------------------|---|\n",
    "| Kurang dari 15        | Very severely underweight |   |\n",
    "| Diantara 15 dan 16   | Severely underweight      |   |\n",
    "| Diantara 16 dan 18.5 | Underweight               |   |\n",
    "| Diantara 18.5 dan 25 | Normal (healthy weight)   |   |\n",
    "| Diantara 25 dan 30   | Overweight                |   |\n",
    "| Diantara 30 dan 35   | Moderately obese          |   |\n",
    "| Diantara 35 dan 40   | Severely obese            |   |\n",
    "| Over 40             | Very severely obese       |   |\n",
    "\n",
    "Buatlah sebuah program yang memiliki dua variabel berat badan dengan satuan KG, dan tinggi badan dengan satuan CM, kemudian keluaran dari program adalah Kategori BMI"
   ]
  },
  {
   "cell_type": "markdown",
   "metadata": {},
   "source": [
    "## > _Penyelesaian_"
   ]
  },
  {
   "cell_type": "code",
   "execution_count": 7,
   "metadata": {},
   "outputs": [
    {
     "name": "stdout",
     "output_type": "stream",
     "text": [
      "[+] Masukkan berat badan Anda: 65.8\n",
      "65.8 kg\n",
      "[+] Masukkan tinggi badan Anda: 170.4\n",
      "170.4 cm\n",
      "Nilai BMI =  22.661\n"
     ]
    }
   ],
   "source": [
    "# data masukan\n",
    "bb = input(\"[+] Masukkan berat badan Anda: \")\n",
    "print(bb + \" kg\")\n",
    "tg = input(\"[+] Masukkan tinggi badan Anda: \")\n",
    "print(tg + \" cm\")\n",
    "\n",
    "# konversi tipe data\n",
    "berat = float(bb)\n",
    "tinggi = float(tg)\n",
    "\n",
    "# Rumus BMI = weight (kg) ÷ height^2 (m^2)\n",
    "bmi = berat / (tinggi/100)**2\n",
    "print(\"Nilai BMI = \", round(bmi,3))"
   ]
  },
  {
   "cell_type": "code",
   "execution_count": 8,
   "metadata": {},
   "outputs": [],
   "source": [
    "# Pengumpulan Kategori\n",
    "kategori = [\n",
    "            \"Very severely underweight\",\n",
    "            \"Severely underweight\",\n",
    "            \"Underweight\",\n",
    "            \"Normal (healthy weight)\",\n",
    "            \"Overweight\",\n",
    "            \"Moderately obese\",\n",
    "            \"Severely obese\",\n",
    "            \"Very severely obese\"\n",
    "           ]\n",
    "\n",
    "# Fungsi penentuan kategori\n",
    "def bmiKategori(x):\n",
    "    if (x < 15):\n",
    "        hasil = kategori[0]\n",
    "    elif (x >= 15) and (x < 16):\n",
    "        hasil = kategori[1]\n",
    "    elif (x >= 16) and (x < 18.5):\n",
    "        hasil = kategori[2]\n",
    "    elif (x >= 18.5) and (x < 25):\n",
    "        hasil = kategori[3]\n",
    "    elif (x >= 25) and (x < 30):\n",
    "        hasil = kategori[4]\n",
    "    elif (x >= 30) and (x < 35):\n",
    "        hasil = kategori[5]\n",
    "    elif (x >= 35) and (x < 40):\n",
    "        hasil = kategori[6]\n",
    "    else:\n",
    "        hasil = kategori[7]\n",
    "    \n",
    "    return hasil"
   ]
  },
  {
   "cell_type": "code",
   "execution_count": 9,
   "metadata": {},
   "outputs": [
    {
     "name": "stdout",
     "output_type": "stream",
     "text": [
      "Dengan berat badan 65.8 kg dan tinggi badan 170.4 cm, Anda masuk dalam kategori 'Normal (healthy weight)'.\n"
     ]
    }
   ],
   "source": [
    "# Hasil Kategori dari nilai BMI\n",
    "hasil = bmiKategori(bmi)\n",
    "print(\"Dengan berat badan \" + str(berat) + \" kg dan tinggi badan \" + str(tinggi) + \" cm, Anda masuk dalam kategori\" + \" '\" + hasil + \"'.\")"
   ]
  },
  {
   "cell_type": "code",
   "execution_count": null,
   "metadata": {},
   "outputs": [],
   "source": []
  }
 ],
 "metadata": {
  "kernelspec": {
   "display_name": "Python 3",
   "language": "python",
   "name": "python3"
  },
  "language_info": {
   "codemirror_mode": {
    "name": "ipython",
    "version": 3
   },
   "file_extension": ".py",
   "mimetype": "text/x-python",
   "name": "python",
   "nbconvert_exporter": "python",
   "pygments_lexer": "ipython3",
   "version": "3.6.5"
  }
 },
 "nbformat": 4,
 "nbformat_minor": 2
}
