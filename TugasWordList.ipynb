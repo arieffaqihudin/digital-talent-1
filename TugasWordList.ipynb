{
 "cells": [
  {
   "cell_type": "markdown",
   "metadata": {},
   "source": [
    "## LATIHAN 2 - Tugas List Nilai"
   ]
  },
  {
   "cell_type": "markdown",
   "metadata": {},
   "source": [
    "Diberikan sekumpulan Nilai Random antara 0 sampai dengan 100 sebanyak 250 nilai. Buatlah program untuk melakukan hal berikut:\n",
    "\n",
    "1. Tampilkan Angka Ganjil dari ke 250 nilai tersebut\n",
    "2. Tampilkan berapa banyak yang mendapatkan nilai lebih dari 70\n",
    "3. Tampilkan standar deviasi dari sekumpulan nilai tersebut\n",
    "4. Tampilkan nilai maksimum dan minimum\n",
    "5. Tampilkan modus dari sekumpulan nilai tersebut"
   ]
  },
  {
   "cell_type": "code",
   "execution_count": 64,
   "metadata": {},
   "outputs": [
    {
     "name": "stdout",
     "output_type": "stream",
     "text": [
      "[51, 30, 55, 96, 16, 84, 80, 12, 25, 44, 8, 58, 49, 62, 14, 97, 50, 49, 31, 88, 87, 53, 65, 53, 61, 6, 98, 92, 34, 38, 55, 24, 68, 14, 72, 63, 27, 36, 38, 12, 54, 93, 71, 70, 2, 12, 20, 3, 81, 50, 21, 90, 47, 6, 9, 17, 87, 54, 10, 46, 99, 56, 24, 44, 64, 53, 98, 1, 31, 48, 4, 52, 38, 72, 96, 29, 55, 71, 34, 42, 20, 89, 74, 59, 74, 17, 78, 63, 31, 97, 50, 15, 36, 66, 86, 99, 16, 1, 26, 69, 44, 95, 1, 38, 8, 1, 43, 38, 67, 22, 79, 31, 96, 4, 28, 92, 98, 15, 82, 90, 9, 51, 11, 76, 75, 17, 17, 94, 9, 45, 37, 46, 20, 76, 16, 83, 58, 98, 20, 77, 5, 36, 37, 71, 84, 57, 63, 13, 16, 58, 17, 9, 97, 74, 40, 99, 2, 6, 37, 66, 26, 75, 1, 9, 25, 97, 4, 54, 11, 11, 19, 42, 58, 89, 64, 16, 98, 78, 57, 60, 13, 6, 85, 97, 17, 30, 96, 15, 75, 70, 45, 18, 63, 88, 69, 50, 61, 33, 80, 83, 27, 91, 82, 95, 3, 47, 51, 3, 18, 31, 43, 38, 72, 71, 64, 59, 41, 49, 14, 8, 42, 38, 1, 66, 8, 29, 32, 36, 91, 65, 13, 51, 76, 54, 18, 51, 4, 22, 40, 55, 80, 24, 39, 89, 49, 5, 3, 55, 54, 17]\n"
     ]
    }
   ],
   "source": [
    "import random\n",
    "\n",
    "# GENERATE RANDOM\n",
    "nilaiTugas = []\n",
    "for i in range(250):\n",
    "    nilaiTugas.append(random.randrange(1,100,1))\n",
    "\n",
    "print(nilaiTugas)\n",
    "\n",
    "# TAMPILKAN:\n",
    "# ganjil\n",
    "# nilai > 70\n",
    "# standar deviasi\n",
    "# maksimum\n",
    "# minimum\n",
    "# modus"
   ]
  },
  {
   "cell_type": "code",
   "execution_count": 65,
   "metadata": {},
   "outputs": [
    {
     "name": "stdout",
     "output_type": "stream",
     "text": [
      "=============================\n",
      "[51, 55, 25, 49, 97, 49, 31, 87, 53, 65, 53, 61, 55, 63, 27, 93, 71, 3, 81, 21, 47, 9, 17, 87, 99, 53, 1, 31, 29, 55, 71, 89, 59, 17, 63, 31, 97, 15, 99, 1, 69, 95, 1, 1, 43, 67, 79, 31, 15, 9, 51, 11, 75, 17, 17, 9, 45, 37, 83, 77, 5, 37, 71, 57, 63, 13, 17, 9, 97, 99, 37, 75, 1, 9, 25, 97, 11, 11, 19, 89, 57, 13, 85, 97, 17, 15, 75, 45, 63, 69, 61, 33, 83, 27, 91, 95, 3, 47, 51, 3, 31, 43, 71, 59, 41, 49, 1, 29, 91, 65, 13, 51, 51, 55, 39, 89, 49, 5, 3, 55, 17]\n"
     ]
    }
   ],
   "source": [
    "#[1] Tampilkan angka ganjil dari 250 nilai random\n",
    "print('=============================')    \n",
    "nilai = []\n",
    "for n in nilaiTugas:\n",
    "    if ((n % 2) == 1):\n",
    "        nilai.append(n)\n",
    "print(nilai)"
   ]
  },
  {
   "cell_type": "code",
   "execution_count": 66,
   "metadata": {},
   "outputs": [
    {
     "name": "stdout",
     "output_type": "stream",
     "text": [
      "=============================\n",
      "66\n"
     ]
    }
   ],
   "source": [
    "#[2] Tampilkan berapa banyak yang mendapatkan nilai lebih dari 70\n",
    "\n",
    "tot = 0\n",
    "for n in nilaiTugas:\n",
    "    if (n > 70):\n",
    "#         print(n)\n",
    "        tot = tot + 1\n",
    "print('=============================')        \n",
    "print(tot)"
   ]
  },
  {
   "cell_type": "code",
   "execution_count": 67,
   "metadata": {},
   "outputs": [
    {
     "name": "stdout",
     "output_type": "stream",
     "text": [
      "=============================\n",
      "jumlah data:  250\n",
      "x1:  776017\n",
      "x2:  139499721\n",
      "varian:  875.575\n",
      "Standar Deviasi:  29.59\n"
     ]
    }
   ],
   "source": [
    "#[3] Tampilkan standar deviasi dari sekumpulan nilai tersebut\n",
    "\n",
    "jum_data = len(nilaiTugas)\n",
    "print('=============================')\n",
    "print('jumlah data: ',jum_data)\n",
    "\n",
    "#[-] mencari nilai x1\n",
    "x1 = 0\n",
    "for n in nilaiTugas:\n",
    "    x1 = x1 + (n**2)\n",
    "print('x1: ',x1)\n",
    "\n",
    "#[-] mencari nilai x2\n",
    "x2 = 0\n",
    "for n in nilaiTugas:\n",
    "    x2 = x2 + n\n",
    "x2 = x2**2\n",
    "print('x2: ',x2)\n",
    "\n",
    "#[-] mencari nilai v \n",
    "v = ((jum_data*x1)-x2)/(jum_data*(jum_data - 1))\n",
    "print('varian: ',round(v,3))\n",
    "\n",
    "#[-] hasil standar deviasi\n",
    "s2 = v**(1/2)\n",
    "print('Standar Deviasi: ',round(s2,3))"
   ]
  },
  {
   "cell_type": "code",
   "execution_count": 68,
   "metadata": {},
   "outputs": [
    {
     "name": "stdout",
     "output_type": "stream",
     "text": [
      "=============================\n",
      "nilai maksimum:  99\n",
      "nilai minimum:  1\n"
     ]
    }
   ],
   "source": [
    "#[4][a] Tampilkan nilai maksimum dan minimum\n",
    "print('=============================')    \n",
    "max = nilaiTugas[0]\n",
    "for n in nilaiTugas:\n",
    "    if (n > max):\n",
    "        max = n\n",
    "print('nilai maksimum: ',max)\n",
    "\n",
    "#[4][b] Tampilkan nilai maksimum dan minimum\n",
    "min = nilaiTugas[0]\n",
    "for n in nilaiTugas:\n",
    "    if (n < min):\n",
    "        min = n\n",
    "print('nilai minimum: ',min)"
   ]
  },
  {
   "cell_type": "code",
   "execution_count": 69,
   "metadata": {},
   "outputs": [
    {
     "name": "stdout",
     "output_type": "stream",
     "text": [
      "=============================\n",
      "Data yang paling banyak muncul adalah 38 dengan frekuensi 7 kali\n"
     ]
    }
   ],
   "source": [
    "#[5] Tampilkan modus dari sekumpulan nilai tersebut\n",
    "print('=============================')    \n",
    "dic_nilai = {}\n",
    "\n",
    "for n in nilaiTugas:\n",
    "    if n in dic_nilai:\n",
    "        dic_nilai[n] += 1\n",
    "    else: \n",
    "        dic_nilai[n] = 1\n",
    "\n",
    "key = 0\n",
    "frek = 0\n",
    "dic_modus = {}\n",
    "\n",
    "for val in dic_nilai:\n",
    "    if (dic_nilai[val] > frek):\n",
    "        frek = dic_nilai[val]\n",
    "        key = val\n",
    "        dic_modus = {key:frek}\n",
    "print('Data yang paling banyak muncul adalah',key,'dengan frekuensi',frek,'kali')"
   ]
  },
  {
   "cell_type": "markdown",
   "metadata": {},
   "source": [
    "## LATIHAN 2 - Tugas Word Count"
   ]
  },
  {
   "cell_type": "code",
   "execution_count": 70,
   "metadata": {},
   "outputs": [
    {
     "name": "stdout",
     "output_type": "stream",
     "text": [
      "Paragraf sebelum preprocessing: \n",
      "\n",
      "Barcelona berhasil merebut posisi puncak klasemen La Liga Spanyol seusai menang 4-2 atas Sevilla pada pertandingan pekan kesembilan di Stadion Camp Nou, Sabtu (20/10/2018) atau Minggu dini hari WIB. Barcelona membuka keunggulan pada menit ke-2 melalui gol yang dicetak oleh Philippe Coutinho. Lionel Messi menggandakan keunggulan Barcelona, 10 menit berselang.  Namun, nahas bagi Barcelona, karena Messi harus ditarik keluar pada menit ke-26 setelah mengalami cedera. Tanpa Messi, skor 2-0 bertahan hingga babak pertama berakhir.\n"
     ]
    }
   ],
   "source": [
    "print(\"Paragraf sebelum preprocessing: \\n\")\n",
    "paragraf = \"Barcelona berhasil merebut posisi puncak klasemen La Liga Spanyol seusai menang 4-2 atas Sevilla pada pertandingan pekan kesembilan di Stadion Camp Nou, Sabtu (20/10/2018) atau Minggu dini hari WIB. Barcelona membuka keunggulan pada menit ke-2 melalui gol yang dicetak oleh Philippe Coutinho. Lionel Messi menggandakan keunggulan Barcelona, 10 menit berselang.  Namun, nahas bagi Barcelona, karena Messi harus ditarik keluar pada menit ke-26 setelah mengalami cedera. Tanpa Messi, skor 2-0 bertahan hingga babak pertama berakhir.\"\n",
    "print(paragraf)"
   ]
  },
  {
   "cell_type": "code",
   "execution_count": 71,
   "metadata": {},
   "outputs": [
    {
     "name": "stdout",
     "output_type": "stream",
     "text": [
      "Paragraf setelah di prprocessing: \n",
      "\n",
      "barcelona berhasil merebut posisi puncak klasemen la liga spanyol seusai menang  atas sevilla pada pertandingan pekan kesembilan di stadion camp nou sabtu  atau minggu dini hari wib barcelona membuka keunggulan pada menit ke melalui gol yang dicetak oleh philippe coutinho lionel messi menggandakan keunggulan barcelona  menit berselang  namun nahas bagi barcelona karena messi harus ditarik keluar pada menit ke setelah mengalami cedera tanpa messi skor  bertahan hingga babak pertama berakhir\n"
     ]
    }
   ],
   "source": [
    "print(\"Paragraf setelah di prprocessing: \\n\")\n",
    "\n",
    "paragraf = paragraf.lower()\n",
    "for char in '?.!/;:()-,0123456789':  \n",
    "    paragraf = paragraf.replace(char,'')\n",
    "word_list = paragraf.split()\n",
    "print(paragraf)"
   ]
  },
  {
   "cell_type": "code",
   "execution_count": 72,
   "metadata": {},
   "outputs": [
    {
     "name": "stdout",
     "output_type": "stream",
     "text": [
      "Hasil perhitungan setiap kata dalam paragraf: \n",
      "\n",
      "barcelona : 4\n",
      "berhasil : 1\n",
      "merebut : 1\n",
      "posisi : 1\n",
      "puncak : 1\n",
      "klasemen : 1\n",
      "la : 1\n",
      "liga : 1\n",
      "spanyol : 1\n",
      "seusai : 1\n",
      "menang : 1\n",
      "atas : 1\n",
      "sevilla : 1\n",
      "pada : 3\n",
      "pertandingan : 1\n",
      "pekan : 1\n",
      "kesembilan : 1\n",
      "di : 1\n",
      "stadion : 1\n",
      "camp : 1\n",
      "nou : 1\n",
      "sabtu : 1\n",
      "atau : 1\n",
      "minggu : 1\n",
      "dini : 1\n",
      "hari : 1\n",
      "wib : 1\n",
      "membuka : 1\n",
      "keunggulan : 2\n",
      "menit : 3\n",
      "ke : 2\n",
      "melalui : 1\n",
      "gol : 1\n",
      "yang : 1\n",
      "dicetak : 1\n",
      "oleh : 1\n",
      "philippe : 1\n",
      "coutinho : 1\n",
      "lionel : 1\n",
      "messi : 3\n",
      "menggandakan : 1\n",
      "berselang : 1\n",
      "namun : 1\n",
      "nahas : 1\n",
      "bagi : 1\n",
      "karena : 1\n",
      "harus : 1\n",
      "ditarik : 1\n",
      "keluar : 1\n",
      "setelah : 1\n",
      "mengalami : 1\n",
      "cedera : 1\n",
      "tanpa : 1\n",
      "skor : 1\n",
      "bertahan : 1\n",
      "hingga : 1\n",
      "babak : 1\n",
      "pertama : 1\n",
      "berakhir : 1\n"
     ]
    }
   ],
   "source": [
    "dic_word = {}\n",
    "\n",
    "for word in word_list:\n",
    "    if word in dic_word:\n",
    "        dic_word[word] += 1\n",
    "    else: \n",
    "        dic_word[word] = 1\n",
    "# print(dic_word)\n",
    "\n",
    "from pprint import pprint\n",
    "\n",
    "print(\"Hasil perhitungan setiap kata dalam paragraf: \\n\")\n",
    "list = []\n",
    "for word in dic_word:\n",
    "    list.append({word:dic_word[word]})\n",
    "\n",
    "for dic in list:\n",
    "    for val in dic:\n",
    "        print(val, ':', dic[val])"
   ]
  },
  {
   "cell_type": "code",
   "execution_count": null,
   "metadata": {},
   "outputs": [],
   "source": []
  }
 ],
 "metadata": {
  "kernelspec": {
   "display_name": "Python 3",
   "language": "python",
   "name": "python3"
  },
  "language_info": {
   "codemirror_mode": {
    "name": "ipython",
    "version": 3
   },
   "file_extension": ".py",
   "mimetype": "text/x-python",
   "name": "python",
   "nbconvert_exporter": "python",
   "pygments_lexer": "ipython3",
   "version": "3.6.5"
  }
 },
 "nbformat": 4,
 "nbformat_minor": 2
}
