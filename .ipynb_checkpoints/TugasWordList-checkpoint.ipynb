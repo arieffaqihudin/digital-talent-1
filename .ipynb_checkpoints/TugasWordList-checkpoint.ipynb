{
 "cells": [
  {
   "cell_type": "markdown",
   "metadata": {},
   "source": [
    "## LATIHAN 2 - Tugas List Nilai"
   ]
  },
  {
   "cell_type": "markdown",
   "metadata": {},
   "source": [
    "Diberikan sekumpulan Nilai Random antara 0 sampai dengan 100 sebanyak 250 nilai. Buatlah program untuk melakukan hal berikut:\n",
    "\n",
    "1. Tampilkan Angka Ganjil dari ke 250 nilai tersebut\n",
    "2. Tampilkan berapa banyak yang mendapatkan nilai lebih dari 70\n",
    "3. Tampilkan standar deviasi dari sekumpulan nilai tersebut\n",
    "4. Tampilkan nilai maksimum dan minimum\n",
    "5. Tampilkan modus dari sekumpulan nilai tersebut"
   ]
  },
  {
   "cell_type": "code",
   "execution_count": null,
   "metadata": {},
   "outputs": [],
   "source": [
    "import random\n",
    "\n",
    "# GENERATE RANDOM\n",
    "nilaiTugas = []\n",
    "for i in range(250):\n",
    "    nilaiTugas.append(random.randrange(1,100,1))\n",
    "\n",
    "print(nilaiTugas)\n",
    "\n",
    "# TAMPILKAN:\n",
    "# ganjil\n",
    "# nilai > 70\n",
    "# standar deviasi\n",
    "# maksimum\n",
    "# minimum\n",
    "# modus"
   ]
  },
  {
   "cell_type": "code",
   "execution_count": null,
   "metadata": {},
   "outputs": [],
   "source": [
    "#[1] Tampilkan angka ganjil dari 250 nilai random\n",
    "print('=============================')    \n",
    "nilai = []\n",
    "for n in nilaiTugas:\n",
    "    if ((n % 2) == 1):\n",
    "        nilai.append(n)\n",
    "print(nilai)"
   ]
  },
  {
   "cell_type": "code",
   "execution_count": null,
   "metadata": {},
   "outputs": [],
   "source": [
    "#[2] Tampilkan berapa banyak yang mendapatkan nilai lebih dari 70\n",
    "\n",
    "tot = 0\n",
    "for n in nilaiTugas:\n",
    "    if (n > 70):\n",
    "#         print(n)\n",
    "        tot = tot + 1\n",
    "print('=============================')        \n",
    "print(tot)"
   ]
  },
  {
   "cell_type": "code",
   "execution_count": null,
   "metadata": {},
   "outputs": [],
   "source": [
    "#[3] Tampilkan standar deviasi dari sekumpulan nilai tersebut\n",
    "\n",
    "jum_data = len(nilaiTugas)\n",
    "print('=============================')\n",
    "print('jumlah data: ',jum_data)\n",
    "\n",
    "#[-] mencari nilai x1\n",
    "x1 = 0\n",
    "for n in nilaiTugas:\n",
    "    x1 = x1 + (n**2)\n",
    "print('x1: ',x1)\n",
    "\n",
    "#[-] mencari nilai x2\n",
    "x2 = 0\n",
    "for n in nilaiTugas:\n",
    "    x2 = x2 + n\n",
    "x2 = x2**2\n",
    "print('x2: ',x2)\n",
    "\n",
    "#[-] mencari nilai v \n",
    "v = ((jum_data*x1)-x2)/(jum_data*(jum_data - 1))\n",
    "print('varian: ',v)\n",
    "\n",
    "#[-] hasil standar deviasi\n",
    "s2 = v**(1/2)\n",
    "print('Standar Deviasi: ',s2)"
   ]
  },
  {
   "cell_type": "code",
   "execution_count": null,
   "metadata": {},
   "outputs": [],
   "source": [
    "#[4][a] Tampilkan nilai maksimum dan minimum\n",
    "print('=============================')    \n",
    "max = nilaiTugas[0]\n",
    "for n in nilaiTugas:\n",
    "    if (n > max):\n",
    "        max = n\n",
    "print('nilai maksimum: ',max)\n",
    "\n",
    "#[4][b] Tampilkan nilai maksimum dan minimum\n",
    "min = nilaiTugas[0]\n",
    "for n in nilaiTugas:\n",
    "    if (n < min):\n",
    "        min = n\n",
    "print('nilai minimum: ',min)"
   ]
  },
  {
   "cell_type": "code",
   "execution_count": null,
   "metadata": {},
   "outputs": [],
   "source": [
    "#[5] Tampilkan modus dari sekumpulan nilai tersebut\n",
    "print('=============================')    \n",
    "dic_nilai = {}\n",
    "\n",
    "for n in nilaiTugas:\n",
    "    if n in dic_nilai:\n",
    "        dic_nilai[n] += 1\n",
    "    else: \n",
    "        dic_nilai[n] = 1\n",
    "\n",
    "key = 0\n",
    "frek = 0\n",
    "dic_modus = {}\n",
    "\n",
    "for val in dic_nilai:\n",
    "    if (dic_nilai[val] > frek):\n",
    "        frek = dic_nilai[val]\n",
    "        key = val\n",
    "        dic_modus = {key:frek}\n",
    "print('Data yang paling banyak muncul adalah',key,'dengan frekuensi',frek,'kali')"
   ]
  },
  {
   "cell_type": "markdown",
   "metadata": {},
   "source": [
    "## LATIHAN 2 - Tugas Word Count"
   ]
  },
  {
   "cell_type": "code",
   "execution_count": 57,
   "metadata": {},
   "outputs": [
    {
     "name": "stdout",
     "output_type": "stream",
     "text": [
      "Barcelona berhasil merebut posisi puncak klasemen La Liga Spanyol seusai menang 4-2 atas Sevilla pada pertandingan pekan kesembilan di Stadion Camp Nou, Sabtu (20/10/2018) atau Minggu dini hari WIB. Barcelona membuka keunggulan pada menit ke-2 melalui gol yang dicetak oleh Philippe Coutinho. Lionel Messi menggandakan keunggulan Barcelona, 10 menit berselang.  Namun, nahas bagi Barcelona, karena Messi harus ditarik keluar pada menit ke-26 setelah mengalami cedera. Tanpa Messi, skor 2-0 bertahan hingga babak pertama berakhir.\n",
      "Barcelona berhasil merebut posisi puncak klasemen La Liga Spanyol seusai menang 4-2 atas Sevilla pada pertandingan pekan kesembilan di Stadion Camp Nou, Sabtu (20/10/2018) atau Minggu dini hari WIB. Barcelona membuka keunggulan pada menit ke-2 melalui gol yang dicetak oleh Philippe Coutinho. Lionel Messi menggandakan keunggulan Barcelona, 10 menit berselang.  Namun, nahas bagi Barcelona, karena Messi harus ditarik keluar pada menit ke-26 setelah mengalami cedera. Tanpa Messi, skor 2-0 bertahan hingga babak pertama berakhir.\n"
     ]
    }
   ],
   "source": [
    "paragraf = \"Barcelona berhasil merebut posisi puncak klasemen La Liga Spanyol seusai menang 4-2 atas Sevilla pada pertandingan pekan kesembilan di Stadion Camp Nou, Sabtu (20/10/2018) atau Minggu dini hari WIB. Barcelona membuka keunggulan pada menit ke-2 melalui gol yang dicetak oleh Philippe Coutinho. Lionel Messi menggandakan keunggulan Barcelona, 10 menit berselang.  Namun, nahas bagi Barcelona, karena Messi harus ditarik keluar pada menit ke-26 setelah mengalami cedera. Tanpa Messi, skor 2-0 bertahan hingga babak pertama berakhir.\"\n",
    "# print(paragraf)\n",
    "paragraf.lower()\n",
    "print(paragraf)"
   ]
  },
  {
   "cell_type": "code",
   "execution_count": 56,
   "metadata": {},
   "outputs": [
    {
     "name": "stdout",
     "output_type": "stream",
     "text": [
      "Barcelona berhasil merebut posisi puncak klasemen La Liga Spanyol seusai menang 42 atas Sevilla pada pertandingan pekan kesembilan di Stadion Camp Nou Sabtu 21218 atau Minggu dini hari WIB Barcelona membuka keunggulan pada menit ke2 melalui gol yang dicetak oleh Philippe Coutinho Lionel Messi menggandakan keunggulan Barcelona 1 menit berselang  Namun nahas bagi Barcelona karena Messi harus ditarik keluar pada menit ke26 setelah mengalami cedera Tanpa Messi skor 2 bertahan hingga babak pertama berakhir\n"
     ]
    }
   ],
   "source": [
    "for char in '?.!/;:()-,':  \n",
    "    paragraf = paragraf.replace(char,'') \n",
    "print(paragraf)"
   ]
  },
  {
   "cell_type": "code",
   "execution_count": null,
   "metadata": {},
   "outputs": [],
   "source": []
  }
 ],
 "metadata": {
  "kernelspec": {
   "display_name": "Python 3",
   "language": "python",
   "name": "python3"
  },
  "language_info": {
   "codemirror_mode": {
    "name": "ipython",
    "version": 3
   },
   "file_extension": ".py",
   "mimetype": "text/x-python",
   "name": "python",
   "nbconvert_exporter": "python",
   "pygments_lexer": "ipython3",
   "version": "3.6.5"
  }
 },
 "nbformat": 4,
 "nbformat_minor": 2
}
